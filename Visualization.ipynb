{
 "cells": [
  {
   "cell_type": "code",
   "execution_count": 1,
   "id": "a8612fff-15f0-4478-b1c0-c78d2e93f1e4",
   "metadata": {},
   "source": [
    "import os\n",
    "import numpy as np\n",
    "import pandas as pd\n",
    "import seaborn as sns\n",
    "import matplotlib.pyplot as plt\n",
    "\n",
    "from preprocessing_data.utils import format_Dataframes, preprocessing_dataframe"
   ],
   "outputs": []
  },
  {
   "cell_type": "code",
   "execution_count": 2,
   "id": "bb1e6d2f-6029-42f9-a0fa-656cecce189a",
   "metadata": {},
   "source": [
    "df = format_Dataframes(data_path=\"D:\\-DSP391m-Forecasting-Financial-Time-Series-With-Transformer\\craw_data\\FPT_stock.xlsx\", type_file=\"xlsx\")\n",
    "df.head(3)"
   ],
   "outputs": []
  },
  {
   "cell_type": "code",
   "execution_count": 3,
   "id": "b53cc6b5",
   "metadata": {},
   "source": [
    "df.tail(3)"
   ],
   "outputs": []
  },
  {
   "cell_type": "code",
   "execution_count": 4,
   "id": "675c5f1f",
   "metadata": {},
   "source": [
    "df = preprocessing_dataframe(df)"
   ],
   "outputs": []
  },
  {
   "cell_type": "code",
   "execution_count": 5,
   "id": "715c4db2",
   "metadata": {},
   "source": [
    "df"
   ],
   "outputs": []
  },
  {
   "cell_type": "code",
   "execution_count": 17,
   "id": "c9534d99",
   "metadata": {},
   "source": [
    "for i in df[\"Đóng cửa\"]:\n",
    "    if i == 0:\n",
    "        print(i)"
   ],
   "outputs": []
  },
  {
   "cell_type": "code",
   "execution_count": 7,
   "id": "7cfdcb00",
   "metadata": {},
   "source": [
    "def plot_price_changes(df: pd.DataFrame) -> None:\n",
    "    fig = plt.figure(figsize=(10, 6))\n",
    "    df = df.sort_values(by='Ngày')\n",
    "    sns.lineplot(x='Ngày', y='Đóng cửa', data=df, label='Giá đóng cửa')\n",
    "    sns.lineplot(x='Ngày', y='Mở cửa', data=df, label='Giá mở cửa')\n",
    "    plt.title('Sự thay đổi của giá đóng và giá mở theo thời gian')\n",
    "    plt.xlabel('Ngày')\n",
    "    plt.ylabel('Giá')\n",
    "    plt.legend()\n",
    "    plt.xticks(rotation=45) \n",
    "    plt.tight_layout()\n",
    "    plt.show()"
   ],
   "outputs": []
  },
  {
   "cell_type": "code",
   "execution_count": 8,
   "id": "332c0cf9",
   "metadata": {},
   "source": [
    "def plot_trading_volume(df: pd.DataFrame) -> None:\n",
    "    fig = plt.figure(figsize=(10, 6))\n",
    "    df = df.sort_values(by='Ngày')\n",
    "    sns.lineplot(x='Ngày', y='Khối lượng (Khớp lệnh)', data=df, label='Khối lượng (Khớp lệnh)')\n",
    "    sns.lineplot(x='Ngày', y='Khối lượng (Thỏa thuận)', data=df, label='Khối lượng (Thỏa thuận)')\n",
    "    plt.title('Sự thay đổi của khối lượng giao dịch khớp lệnh và thỏa thuận theo thời gian')\n",
    "    plt.xlabel('Ngày')\n",
    "    plt.ylabel('Khối lượng')\n",
    "    plt.legend()\n",
    "    plt.xticks(rotation=45) \n",
    "    plt.tight_layout()\n",
    "    plt.show()"
   ],
   "outputs": []
  },
  {
   "cell_type": "code",
   "execution_count": 9,
   "id": "e5281217",
   "metadata": {},
   "source": [
    "def plot_price_range(df: pd.DataFrame) -> None:\n",
    "    fig = plt.figure(figsize=(10, 6))\n",
    "    df = df.sort_values(by='Ngày')\n",
    "    df['Chênh lệch giá'] = df['Cao nhất'] - df['Thấp nhất']\n",
    "    sns.lineplot(x='Ngày', y='Chênh lệch giá', data=df)\n",
    "    plt.title('Sự chênh lệch giữa giá cao nhất và thấp nhất theo thời gian')\n",
    "    plt.xlabel('Ngày')\n",
    "    plt.ylabel('Chênh lệch giá')\n",
    "    plt.xticks(rotation=45) \n",
    "    plt.tight_layout() \n",
    "    plt.show()\n"
   ],
   "outputs": []
  },
  {
   "cell_type": "code",
   "execution_count": 10,
   "id": "6933a3ed",
   "metadata": {},
   "source": [
    "def plot_correlation_heatmap(df: pd.DataFrame) -> None:\n",
    "    numeric_cols = df.select_dtypes(include=['float64']).columns\n",
    "    corr_matrix = df[numeric_cols].corr()\n",
    "    plt.figure(figsize=(10, 8))\n",
    "    sns.heatmap(corr_matrix, annot=True, cmap='coolwarm', fmt=\".2f\")\n",
    "    plt.title('Biểu đồ heatmap của mối tương quan giữa các biến')\n",
    "    plt.show()"
   ],
   "outputs": []
  },
  {
   "cell_type": "code",
   "execution_count": 11,
   "id": "63842456",
   "metadata": {},
   "source": [
    "# plot_price_changes(df)"
   ],
   "outputs": []
  },
  {
   "cell_type": "code",
   "execution_count": 12,
   "id": "ed360321",
   "metadata": {},
   "source": [
    "# plot_trading_volume(df)"
   ],
   "outputs": []
  },
  {
   "cell_type": "code",
   "execution_count": 13,
   "id": "4e31d4f5",
   "metadata": {},
   "source": [
    "# plot_price_range(df)"
   ],
   "outputs": []
  },
  {
   "cell_type": "code",
   "execution_count": 14,
   "id": "164a0f79",
   "metadata": {},
   "source": [
    "# plot_correlation_heatmap(df)"
   ],
   "outputs": []
  },
  {
   "cell_type": "code",
   "execution_count": null,
   "id": "ff60660f",
   "metadata": {},
   "source": [],
   "outputs": []
  }
 ],
 "metadata": {
  "kernelspec": {
   "display_name": "Python 3 (ipykernel)",
   "language": "python",
   "name": "python3"
  },
  "language_info": {
   "codemirror_mode": {
    "name": "ipython",
    "version": 3
   },
   "file_extension": ".py",
   "mimetype": "text/x-python",
   "name": "python",
   "nbconvert_exporter": "python",
   "pygments_lexer": "ipython3",
   "version": "3.10.0"
  }
 },
 "nbformat": 4,
 "nbformat_minor": 5
}
